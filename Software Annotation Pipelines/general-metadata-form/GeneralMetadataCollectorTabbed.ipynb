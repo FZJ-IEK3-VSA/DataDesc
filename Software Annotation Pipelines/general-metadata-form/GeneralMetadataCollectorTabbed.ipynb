{
 "cells": [
  {
   "cell_type": "code",
   "execution_count": null,
   "id": "7b336196",
   "metadata": {},
   "outputs": [],
   "source": [
    "from source import tabbed_form\n",
    "\n",
    "tabbed_form.tabbed_layout()"
   ]
  }
 ],
 "metadata": {
  "celltoolbar": "Edit Metadata",
  "kernelspec": {
   "display_name": "Python 3.10.0 ('gmc': venv)",
   "language": "python",
   "name": "python3"
  },
  "language_info": {
   "codemirror_mode": {
    "name": "ipython",
    "version": 3
   },
   "file_extension": ".py",
   "mimetype": "text/x-python",
   "name": "python",
   "nbconvert_exporter": "python",
   "pygments_lexer": "ipython3",
   "version": "3.10.0"
  },
  "vscode": {
   "interpreter": {
    "hash": "f599a48f4c48a14dd3d50879d661e20bb96fdfabf2ebd7a5cb85a3b588fc790c"
   }
  }
 },
 "nbformat": 4,
 "nbformat_minor": 5
}
